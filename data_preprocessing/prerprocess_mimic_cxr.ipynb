{
 "cells": [
  {
   "cell_type": "markdown",
   "metadata": {},
   "source": [
    "# MIMIC CXR Labels Pre-processing\n",
    "- Download the dataset from https://physionet.org/content/mimic-cxr-jpg/2.0.0/\n",
    "- Run this notebook using the correct paths to get the preprocessed csv file"
   ]
  },
  {
   "cell_type": "code",
   "execution_count": null,
   "metadata": {},
   "outputs": [],
   "source": [
    "import pandas as pd\n",
    "import os"
   ]
  },
  {
   "cell_type": "markdown",
   "metadata": {},
   "source": [
    "## Load MIMIC csv files"
   ]
  },
  {
   "cell_type": "code",
   "execution_count": null,
   "metadata": {},
   "outputs": [],
   "source": [
    "mimic_csv_path = \"PATH TO MIMIC CSV DIR WHERE YOU HAVE .csv.gz FILES\"\n",
    "mimic_files_path = \"PATH TO MIMIC FILES DIR WHERE YOU HAVE p10-p19\"\n",
    "mimic_pt_files_path = \"PATH WHERE YOU WILL SAVE YOUR PT VERSION OF MIMIC FILES\"\n",
    "os.listdir(mimic_csv_path), os.listdir(mimic_files_path)"
   ]
  },
  {
   "cell_type": "code",
   "execution_count": null,
   "metadata": {},
   "outputs": [],
   "source": [
    "mimic_metadata_df = pd.read_csv(os.path.join(mimic_csv_path, \"mimic-cxr-2.0.0-metadata.csv.gz\"))\n",
    "mimic_split_df = pd.read_csv(os.path.join(mimic_csv_path, \"mimic-cxr-2.0.0-split.csv.gz\"))\n",
    "mimic_labels_df = pd.read_csv(os.path.join(mimic_csv_path, \"mimic-cxr-2.0.0-chexpert.csv.gz\"))"
   ]
  },
  {
   "cell_type": "markdown",
   "metadata": {},
   "source": [
    "## Join the csv files based on the `subject_id` and `study_id` columns"
   ]
  },
  {
   "cell_type": "code",
   "execution_count": null,
   "metadata": {},
   "outputs": [],
   "source": [
    "meta_split_df = mimic_metadata_df.set_index(['subject_id', 'study_id', 'dicom_id']).join(mimic_split_df.set_index(['subject_id', 'study_id', 'dicom_id'])).reset_index()"
   ]
  },
  {
   "cell_type": "code",
   "execution_count": null,
   "metadata": {},
   "outputs": [],
   "source": [
    "mimic_combined_df = meta_split_df.set_index(['subject_id', 'study_id']).join(mimic_labels_df.set_index(['subject_id', 'study_id'])).reset_index()"
   ]
  },
  {
   "cell_type": "markdown",
   "metadata": {},
   "source": [
    "## Add the `path_jpg` column to the joined dataframe\n",
    "- Note this that this column is the path to the orignal image file\n",
    "- We need to convert the dataset to .pt version for training (done in the next step) "
   ]
  },
  {
   "cell_type": "code",
   "execution_count": null,
   "metadata": {},
   "outputs": [],
   "source": [
    "mimic_combined_df['path_jpg'] = mimic_combined_df.apply(lambda row: f\"{mimic_files_path}/p{str(row['subject_id'])[:2]}/p{row['subject_id']}/s{row['study_id']}/{row['dicom_id']}.jpg\", axis=1)\n",
    "mimic_combined_df['path'] = mimic_combined_df.apply(lambda row: f\"{mimic_pt_files_path}/p{str(row['subject_id'])[:2]}/p{row['subject_id']}/s{row['study_id']}/{row['dicom_id']}.pt\", axis=1)"
   ]
  },
  {
   "cell_type": "markdown",
   "metadata": {},
   "source": [
    "## We will use only the \"AP\" and \"PA\" views"
   ]
  },
  {
   "cell_type": "code",
   "execution_count": null,
   "metadata": {},
   "outputs": [],
   "source": [
    "mimic_preprocessed_df = mimic_combined_df[mimic_combined_df[\"ViewPosition\"].isin([\"AP\", \"PA\"])]"
   ]
  },
  {
   "cell_type": "code",
   "execution_count": null,
   "metadata": {},
   "outputs": [],
   "source": [
    "mimic_preprocessed_df.head()"
   ]
  },
  {
   "cell_type": "code",
   "execution_count": null,
   "metadata": {},
   "outputs": [],
   "source": [
    "mimic_preprocessed_df.shape"
   ]
  },
  {
   "cell_type": "markdown",
   "metadata": {},
   "source": [
    "## Save df"
   ]
  },
  {
   "cell_type": "code",
   "execution_count": null,
   "metadata": {},
   "outputs": [],
   "source": [
    "mimic_preprocessed_df.to_csv(\"PATH TO SAVE PREPROCESSED MIMIC CSV FILE\", index=False)"
   ]
  },
  {
   "cell_type": "markdown",
   "metadata": {},
   "source": [
    "# Convert .JPG to .PT\n",
    "- We convert the images to .pt files to speed up the training process"
   ]
  },
  {
   "cell_type": "code",
   "execution_count": null,
   "metadata": {},
   "outputs": [],
   "source": [
    "import pandas as pd\n",
    "import os\n",
    "import tqdm\n",
    "import matplotlib.pyplot as plt\n",
    "import torch"
   ]
  },
  {
   "cell_type": "code",
   "execution_count": null,
   "metadata": {},
   "outputs": [],
   "source": [
    "mimic_pt_files_path = \"PATH WHERE YOU WILL SAVE YOUR PT VERSION OF MIMIC FILES\"\n",
    "os.makedirs(mimic_pt_files_path, exist_ok=True)"
   ]
  },
  {
   "cell_type": "code",
   "execution_count": null,
   "metadata": {},
   "outputs": [],
   "source": [
    "mimic_preprocessed_df = pd.read_csv(\"PATH TO PREPROCESSED MIMIC CSV FILE\")"
   ]
  },
  {
   "cell_type": "code",
   "execution_count": null,
   "metadata": {},
   "outputs": [],
   "source": [
    "mimic_jpg_paths = mimic_preprocessed_df[\"path_jpg\"].tolist()\n",
    "\n",
    "for i, jpg_path in tqdm(mimic_jpg_paths, total=len(mimic_jpg_paths)):\n",
    "    pt_path = jpg_path.replace(mimic_files_path, mimic_pt_files_path) # change the base dir path\n",
    "    pt_path = pt_path.replace(\".jpg\", \".pt\") \n",
    "    if not os.path.exists(pt_path):\n",
    "        img = plt.imread(jpg_path)\n",
    "        img = torch.tensor(img).permute(2, 0, 1)\n",
    "        # scale between 0 and 1\n",
    "        img = (img - img.min()) / (img.max() - img.min())\n",
    "        torch.save(img, pt_path)"
   ]
  }
 ],
 "metadata": {
  "kernelspec": {
   "display_name": "Python 3",
   "language": "python",
   "name": "python3"
  },
  "language_info": {
   "codemirror_mode": {
    "name": "ipython",
    "version": 3
   },
   "file_extension": ".py",
   "mimetype": "text/x-python",
   "name": "python",
   "nbconvert_exporter": "python",
   "pygments_lexer": "ipython3",
   "version": "3.8.5"
  }
 },
 "nbformat": 4,
 "nbformat_minor": 2
}
